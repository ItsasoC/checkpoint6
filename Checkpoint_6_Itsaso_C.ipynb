{
  "cells": [
    {
      "cell_type": "markdown",
      "source": [
        "## Checkpoint 6\n",
        "\n"
      ],
      "metadata": {
        "id": "hKlXT8dawmmn"
      }
    },
    {
      "cell_type": "markdown",
      "source": [
        "Este documento se ha creado utilizando Jupyter Notebook (con Google Collab). Contiene texto con explicaciones y código con ejemplos."
      ],
      "metadata": {
        "id": "RFo39AeKwsID"
      }
    },
    {
      "cell_type": "markdown",
      "source": [
        "Autora: Itsaso Carmona\n"
      ],
      "metadata": {
        "id": "sLvPXXnQynxK"
      }
    },
    {
      "cell_type": "markdown",
      "source": [
        "Fecha: 28/06/2024"
      ],
      "metadata": {
        "id": "nnAYg86by5bg"
      }
    },
    {
      "cell_type": "markdown",
      "source": [
        "###Índice\n",
        "\n",
        "#### Ejercicio teórico\n",
        "\n",
        "¿Para qué usamos Clases en Python?\n",
        "\n",
        "¿Qué método se ejecuta automáticamente cuando se crea una instancia de una clase?\n",
        "\n",
        "¿Cuáles son los tres verbos de API?\n",
        "\n",
        "¿Es MongoDB una base de datos SQL o NoSQL?\n",
        "\n",
        "¿Qué es una API?\n",
        "\n",
        "¿Qué es Postman?\n",
        "\n",
        "¿Qué es el polimorfismo?\n",
        "\n",
        "¿Qué es un método dunder?\n",
        "\n",
        "¿Qué es un decorador de python?\n",
        "\n",
        "#### Ejercicio práctico\n",
        "\n",
        "Cree una clase de Python llamada Usuario que use el método init y cree un nombre de usuario y una contraseña. Crea un objeto usando la clase.\n",
        "\n",
        "\n"
      ],
      "metadata": {
        "id": "7p2beopixBsG"
      }
    },
    {
      "cell_type": "markdown",
      "source": [
        "#### Ejercicio teórico\n",
        "\n"
      ],
      "metadata": {
        "id": "4Hg7Y5Yzx6Qx"
      }
    },
    {
      "cell_type": "markdown",
      "source": [
        "#####¿Para qué usamos Clases en Python?"
      ],
      "metadata": {
        "id": "TWiVZdZ8yCcz"
      }
    },
    {
      "cell_type": "markdown",
      "source": [
        "Las clases son una estructura o molde que se utilizan para almacenar información y funciones asociadas. Es como una plantilla para crear objectos de la misma forma y tendrán propiedades y comportamientos definidos.\n",
        "\n",
        "Para crear una clase, hay que utilizar la palabra reservada class seguida del nombre de la clase (La primera letra de la clase hay que escribir en mayúscula) y dos puntos. Después el resto del código."
      ],
      "metadata": {
        "id": "ZsgH5v7dyD0j"
      }
    },
    {
      "cell_type": "code",
      "source": [
        "class Persona:\n",
        "  def saludo(self):\n",
        "    return \"hola!\""
      ],
      "metadata": {
        "id": "z2CL5eL-m3IM"
      },
      "execution_count": 1,
      "outputs": []
    },
    {
      "cell_type": "markdown",
      "source": [
        "En este caso, hemos creado una clase muy simple. Para inicializar, se guarda la instancia de esta manera:"
      ],
      "metadata": {
        "id": "chC9yS2yncQd"
      }
    },
    {
      "cell_type": "code",
      "source": [
        "itsaso = Persona()"
      ],
      "metadata": {
        "id": "xDMOwmAAnQu_"
      },
      "execution_count": 2,
      "outputs": []
    },
    {
      "cell_type": "markdown",
      "source": [
        "Y se utiliza así la función que tiene la clase:"
      ],
      "metadata": {
        "id": "3QIXqYd3np2I"
      }
    },
    {
      "cell_type": "code",
      "source": [
        "itsaso.saludo()"
      ],
      "metadata": {
        "colab": {
          "base_uri": "https://localhost:8080/",
          "height": 35
        },
        "id": "d5KTuYy4nwYQ",
        "outputId": "dc734eaf-43cb-459c-8ea1-b4b2c3eb1e76"
      },
      "execution_count": 3,
      "outputs": [
        {
          "output_type": "execute_result",
          "data": {
            "text/plain": [
              "'hola!'"
            ],
            "application/vnd.google.colaboratory.intrinsic+json": {
              "type": "string"
            }
          },
          "metadata": {},
          "execution_count": 3
        }
      ]
    },
    {
      "cell_type": "markdown",
      "source": [
        "Las ventajas de utilizar clases son:\n",
        "\n",
        "*   Poder reutilizar el código\n",
        "*   Herencia: Se puede utilizar una clase como base para otra clase\n",
        "*   Polimorfirmo: utilizar objetos de diferentes clases de manera uniforme (funciones con el mismo nombre para hacer diferentes tareas).\n",
        "*   Encapsulamiento: para no sobre-escribir. Hay de dos tipos, atributos protegidos (una barra-baja) y privados (dos barra-baja).\n",
        "\n",
        "\n",
        "\n"
      ],
      "metadata": {
        "id": "6XXiFUpcoErJ"
      }
    },
    {
      "cell_type": "markdown",
      "source": [
        "##### ¿Qué método se ejecuta automáticamente cuando se crea una instancia de una clase?\n"
      ],
      "metadata": {
        "id": "2TYZkHbAsF_0"
      }
    },
    {
      "cell_type": "markdown",
      "source": [
        "Cuando se crea una instancia, se ejecuta el método \"_ _init_ _( )\"\n",
        "\n",
        "Se utiliza para inicializar los atributos:"
      ],
      "metadata": {
        "id": "g1ni8gz3sQi7"
      }
    },
    {
      "cell_type": "code",
      "source": [
        "class Persona:\n",
        "    def __init__(self, nombre):\n",
        "        self.nombre = nombre\n",
        "\n",
        "    def saludo(self):\n",
        "        print(f\"Hola {self.nombre}!\")"
      ],
      "metadata": {
        "id": "Hg8bpdSltGLL"
      },
      "execution_count": 4,
      "outputs": []
    },
    {
      "cell_type": "markdown",
      "source": [
        "Crear una instancia:\n"
      ],
      "metadata": {
        "id": "pM3zQ_OVrnjw"
      }
    },
    {
      "cell_type": "code",
      "source": [
        "mi_vecino = Persona(\"Jose\")"
      ],
      "metadata": {
        "id": "qGuZDADcrrTm"
      },
      "execution_count": 5,
      "outputs": []
    },
    {
      "cell_type": "markdown",
      "source": [
        "Acceder al atributo:\n"
      ],
      "metadata": {
        "id": "ACtxpJufrv9I"
      }
    },
    {
      "cell_type": "code",
      "source": [
        "print(mi_vecino.nombre)"
      ],
      "metadata": {
        "id": "wBk1Ov1Zr5g7",
        "colab": {
          "base_uri": "https://localhost:8080/"
        },
        "outputId": "45fbf148-bd01-4e08-d5ec-801939f3da4f"
      },
      "execution_count": 6,
      "outputs": [
        {
          "output_type": "stream",
          "name": "stdout",
          "text": [
            "Jose\n"
          ]
        }
      ]
    },
    {
      "cell_type": "markdown",
      "source": [
        "La función personalizada:\n"
      ],
      "metadata": {
        "id": "9ySdNvPFr8Ur"
      }
    },
    {
      "cell_type": "code",
      "source": [
        "mi_vecino.saludo()"
      ],
      "metadata": {
        "id": "nreNihVdr98p",
        "colab": {
          "base_uri": "https://localhost:8080/"
        },
        "outputId": "e72ad638-9dfa-452e-bde6-854b510a33b0"
      },
      "execution_count": 7,
      "outputs": [
        {
          "output_type": "stream",
          "name": "stdout",
          "text": [
            "Hola Jose!\n"
          ]
        }
      ]
    },
    {
      "cell_type": "markdown",
      "source": [
        "Si no escribimos ningún nombre, nos dará el siguiente error:"
      ],
      "metadata": {
        "id": "rSSbkpcCuKPR"
      }
    },
    {
      "cell_type": "code",
      "source": [
        "mi_vecina = Persona()"
      ],
      "metadata": {
        "colab": {
          "base_uri": "https://localhost:8080/",
          "height": 141
        },
        "id": "BQJIZH1ouAOc",
        "outputId": "62885ce5-6279-4b5d-8d2f-67b51710c55b"
      },
      "execution_count": 8,
      "outputs": [
        {
          "output_type": "error",
          "ename": "TypeError",
          "evalue": "Persona.__init__() missing 1 required positional argument: 'nombre'",
          "traceback": [
            "\u001b[0;31m---------------------------------------------------------------------------\u001b[0m",
            "\u001b[0;31mTypeError\u001b[0m                                 Traceback (most recent call last)",
            "\u001b[0;32m<ipython-input-8-cd45d558ecae>\u001b[0m in \u001b[0;36m<cell line: 1>\u001b[0;34m()\u001b[0m\n\u001b[0;32m----> 1\u001b[0;31m \u001b[0mmi_vecina\u001b[0m \u001b[0;34m=\u001b[0m \u001b[0mPersona\u001b[0m\u001b[0;34m(\u001b[0m\u001b[0;34m)\u001b[0m\u001b[0;34m\u001b[0m\u001b[0;34m\u001b[0m\u001b[0m\n\u001b[0m",
            "\u001b[0;31mTypeError\u001b[0m: Persona.__init__() missing 1 required positional argument: 'nombre'"
          ]
        }
      ]
    },
    {
      "cell_type": "markdown",
      "source": [
        "#### ¿Cuáles son los tres verbos de API?"
      ],
      "metadata": {
        "id": "reVIec0WutFe"
      }
    },
    {
      "cell_type": "markdown",
      "source": [
        "Tres verbos importantes de una API (Application Programming Interface) son:\n",
        "\n",
        "*   Get: Lectura, obtener datos del servidor\n",
        "*   Post: Escritura, enviar datos al servidor\n",
        "*   Put: Escritura con reemplazo, actualizar un dato existente, reemplazando con dato nuevo.\n",
        "\n",
        "Y otros dos:\n",
        "\n",
        "*   Delete: eliminar la información\n",
        "*   Patch: aplicar modificaciones parciales\n",
        "\n",
        "\n"
      ],
      "metadata": {
        "id": "3VojPg10uvX9"
      }
    },
    {
      "cell_type": "markdown",
      "source": [
        "#### ¿Es MongoDB una base de datos SQL o NoSQL?"
      ],
      "metadata": {
        "id": "EEtYHXILxXlD"
      }
    },
    {
      "cell_type": "markdown",
      "source": [
        "MongoDB es una base de datos NoSQL. Proporciona flexibilidad y escalabilidad para gestionar y almacenar datos. No requiere un esquema fijo."
      ],
      "metadata": {
        "id": "TK-APse_xZ7c"
      }
    },
    {
      "cell_type": "markdown",
      "source": [
        "#### ¿Qué es una API?"
      ],
      "metadata": {
        "id": "CKC0_XeYypQ-"
      }
    },
    {
      "cell_type": "markdown",
      "source": [
        "Las siglas API se refieren a Application Programming Interface, que en castellano sería Interfaz de Programación de Aplicaciones. Utilizan  técnicas para que diferentes aplicaciones se comuniquen entre sí, sin tener que saber exactamente cómo es la aplicación de software."
      ],
      "metadata": {
        "id": "TG3so65nyy0L"
      }
    },
    {
      "cell_type": "markdown",
      "source": [
        "#### ¿Qué es Postman?"
      ],
      "metadata": {
        "id": "KkNjLmAe3z4n"
      }
    },
    {
      "cell_type": "markdown",
      "source": [
        "Postman es una plataforma que conecta APIs externos. Recibe datos en vez de recibir la página web. Los datos son almacenados en formato json. Aunque es de pago, tiene una versión gratuita."
      ],
      "metadata": {
        "id": "9NgvyAqR32aT"
      }
    },
    {
      "cell_type": "markdown",
      "source": [
        "#### ¿Qué es el polimorfismo?"
      ],
      "metadata": {
        "id": "m0Ovj407415Q"
      }
    },
    {
      "cell_type": "markdown",
      "source": [
        "Dos objetos diferentes llaman al mismo método pero obtienen resultados de diferentes tareas. Veamos un ejemplo:"
      ],
      "metadata": {
        "id": "7Gh1EmsE5Iec"
      }
    },
    {
      "cell_type": "code",
      "source": [
        "class Persona:\n",
        "        def saludo(self):\n",
        "                raise NotImplementedError\n",
        "\n",
        "class Estudiante(Persona):\n",
        "        def saludo(self):\n",
        "                print(\"Hola estudiante, ¿cómo estás?\")\n",
        "\n",
        "class Profesorado(Persona):\n",
        "        def saludo(self):\n",
        "                print(\"Hola profesor/a, ¿cómo estás?\")"
      ],
      "metadata": {
        "id": "lvF6q-m4FkFU"
      },
      "execution_count": 9,
      "outputs": []
    },
    {
      "cell_type": "code",
      "source": [
        "pepito = Estudiante()\n",
        "juanito = Profesorado()\n",
        "\n",
        "pepito.saludo()\n",
        "juanito.saludo()"
      ],
      "metadata": {
        "colab": {
          "base_uri": "https://localhost:8080/"
        },
        "id": "cqiWgtMmHWC8",
        "outputId": "3697b28e-a403-49ad-bb61-2b76ea283237"
      },
      "execution_count": 10,
      "outputs": [
        {
          "output_type": "stream",
          "name": "stdout",
          "text": [
            "Hola estudiante, ¿cómo estás?\n",
            "Hola profesor/a, ¿cómo estás?\n"
          ]
        }
      ]
    },
    {
      "cell_type": "markdown",
      "source": [
        "En este caso, tenemos dos clases que se han creado utilizando la clase Persona. Ambas clases tienen el metodo \"saludo\" que han heredado de la clase-padre Persona. En cada clase se especifica el comportamiento de este método. Si ejecutamos \"saludo\" obtendremos \"Hola estudiante, ¿cómo estás?\" o \"Hola profesor/a, ¿cómo estás?\" según si el objeto es de clase Estudiante o clase Profesorado."
      ],
      "metadata": {
        "id": "e9FCgUbjGZnf"
      }
    },
    {
      "cell_type": "markdown",
      "source": [
        "#### ¿Qué es un método dunder?\n",
        "\n"
      ],
      "metadata": {
        "id": "qNIMJB085DB3"
      }
    },
    {
      "cell_type": "markdown",
      "source": [
        "Un método dunder es una función especial que tiene dos barra-baja al principio y al final de su nombre. Se utiliza para proporcionar comportamientos específicos en las clases. Los más comunes son:\n",
        "\n",
        "*   _ _init_ _: método constructor, para guardar en \"self\" los atributos que se incluyen al inicializar\n",
        "*   _ _str_ _: devuelve una cadena de caracteres para comprobar que los atributos son correctos\n",
        "\n",
        "Otros métodos dunder populares son repr, iter, len..."
      ],
      "metadata": {
        "id": "suxpq-od5FXB"
      }
    },
    {
      "cell_type": "code",
      "source": [
        "class Persona:\n",
        "    def __init__(self, nombre):\n",
        "        self.nombre = nombre\n",
        "\n",
        "    def __str__(self):\n",
        "        return f\"Hola {self.nombre}!\"\n",
        "\n",
        "Itsaso = Persona(\"Itsaso\")\n",
        "print(Itsaso.nombre)\n",
        "print(str(Itsaso))"
      ],
      "metadata": {
        "colab": {
          "base_uri": "https://localhost:8080/"
        },
        "id": "TCAVfK9CKT3k",
        "outputId": "6eb1d3cc-94f0-4a59-d2e0-0450032c7327"
      },
      "execution_count": 11,
      "outputs": [
        {
          "output_type": "stream",
          "name": "stdout",
          "text": [
            "Itsaso\n",
            "Hola Itsaso!\n"
          ]
        }
      ]
    },
    {
      "cell_type": "markdown",
      "source": [
        "#### ¿Qué es un decorador de python?"
      ],
      "metadata": {
        "id": "wP4e2ilR5Fv3"
      }
    },
    {
      "cell_type": "markdown",
      "source": [
        "Los decoradores en Python son una herramienta poderosa y flexible para modificar o extender el comportamiento de funciones y métodos. Permiten añadir funcionalidades de forma concisa y reutilizable, mejorando la eficiencia, la modularidad y la claridad del código.\n",
        "\n",
        "El decorador es una función que envuelve a la función original añadiendo comportamiento antes y después de su llamada.\n",
        "\n",
        "Hay que definir la función que será el decorador. Para utilizar, escribiremos @ y nombre de la función, seguido de la función que se quiera decorar. Veamos un ejemplo:"
      ],
      "metadata": {
        "id": "b3a79RiI5HI4"
      }
    },
    {
      "cell_type": "code",
      "source": [
        "def simple_decorator(func):\n",
        "    def envoltura(*args, **kwargs):\n",
        "        print(\"Se va a ejecutar la funcion\")\n",
        "        result = func(*args, **kwargs)\n",
        "        return result\n",
        "    return envoltura\n",
        "\n",
        "@simple_decorator\n",
        "def hola():\n",
        "    print(\"Hello, World!\")\n",
        "\n"
      ],
      "metadata": {
        "id": "3eG0SV1ge5-m"
      },
      "execution_count": 12,
      "outputs": []
    },
    {
      "cell_type": "markdown",
      "source": [
        "Al ejecutar la función hola(), primero se ejecutará el decorador (la función simple_decorator) y escribirá \"Se va a ejecutar la funcion\". Después llamará a la función hola() y esté escribirá \"Hello, World!\":"
      ],
      "metadata": {
        "id": "qVHlEovahY86"
      }
    },
    {
      "cell_type": "code",
      "source": [
        "hola()"
      ],
      "metadata": {
        "colab": {
          "base_uri": "https://localhost:8080/"
        },
        "id": "jrC1O50zhwFi",
        "outputId": "68def97f-ff16-45c4-8c43-d640e2f0d285"
      },
      "execution_count": 13,
      "outputs": [
        {
          "output_type": "stream",
          "name": "stdout",
          "text": [
            "Se va a ejecutar la funcion\n",
            "Hello, World!\n"
          ]
        }
      ]
    },
    {
      "cell_type": "markdown",
      "source": [
        "### Ejercicio práctico\n",
        "#### Cree una clase de Python llamada Usuario que use el método init y cree un nombre de usuario y una contraseña. Crea un objeto usando la clase."
      ],
      "metadata": {
        "id": "csznEJwQ22zV"
      }
    },
    {
      "cell_type": "code",
      "source": [
        "class Usuario:\n",
        "    def __init__(self, nombre, contraseña):\n",
        "        self.nombre = nombre\n",
        "        self.contraseña = contraseña\n",
        "\n",
        "usuario1 = Usuario(\"Jose\", \"micontraseña\")\n",
        "\n",
        "print(usuario1.nombre)\n",
        "print(usuario1.contraseña)"
      ],
      "metadata": {
        "colab": {
          "base_uri": "https://localhost:8080/"
        },
        "id": "7A3Ksd4O21n1",
        "outputId": "10166e99-6636-4e71-9856-58b752f451da"
      },
      "execution_count": 14,
      "outputs": [
        {
          "output_type": "stream",
          "name": "stdout",
          "text": [
            "Jose\n",
            "micontraseña\n"
          ]
        }
      ]
    }
  ],
  "metadata": {
    "colab": {
      "provenance": []
    },
    "kernelspec": {
      "display_name": "Python 3",
      "name": "python3"
    }
  },
  "nbformat": 4,
  "nbformat_minor": 0
}