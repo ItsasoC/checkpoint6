{
  "cells": [
    {
      "cell_type": "markdown",
      "source": [
        "## Checkpoint 6\n",
        "\n"
      ],
      "metadata": {
        "id": "hKlXT8dawmmn"
      }
    },
    {
      "cell_type": "markdown",
      "source": [
        "Documento realizado utilizando Jupyter Notebook (con Google Collab)"
      ],
      "metadata": {
        "id": "RFo39AeKwsID"
      }
    },
    {
      "cell_type": "markdown",
      "source": [
        "Autora: Itsaso Carmona\n"
      ],
      "metadata": {
        "id": "sLvPXXnQynxK"
      }
    },
    {
      "cell_type": "markdown",
      "source": [
        "Fecha: 28/06/2024"
      ],
      "metadata": {
        "id": "nnAYg86by5bg"
      }
    },
    {
      "cell_type": "markdown",
      "source": [
        "###Índice\n",
        "\n",
        "#### Ejercicio teórico\n",
        "\n",
        "¿Para qué usamos Clases en Python?\n",
        "\n",
        "¿Qué método se ejecuta automáticamente cuando se crea una instancia de una clase?\n",
        "\n",
        "¿Cuáles son los tres verbos de API?\n",
        "\n",
        "¿Es MongoDB una base de datos SQL o NoSQL?\n",
        "\n",
        "¿Qué es una API?\n",
        "\n",
        "¿Qué es Postman?\n",
        "\n",
        "¿Qué es el polimorfismo?\n",
        "\n",
        "¿Qué es un método dunder?\n",
        "\n",
        "¿Qué es un decorador de python?\n",
        "\n",
        "#### Ejercicio práctico\n",
        "\n",
        "Cree una clase de Python llamada Usuario que use el método init y cree un nombre de usuario y una contraseña. Crea un objeto usando la clase.\n",
        "\n",
        "\n"
      ],
      "metadata": {
        "id": "7p2beopixBsG"
      }
    },
    {
      "cell_type": "markdown",
      "source": [
        "#### Ejercicio teórico\n",
        "\n"
      ],
      "metadata": {
        "id": "4Hg7Y5Yzx6Qx"
      }
    },
    {
      "cell_type": "markdown",
      "source": [
        "#####¿Para qué usamos Clases en Python?"
      ],
      "metadata": {
        "id": "TWiVZdZ8yCcz"
      }
    },
    {
      "cell_type": "markdown",
      "source": [
        "Las clases son una plantilla que se utilizan para almacenar información y funciones asociadas. Es como una plantilla para crear objectos de la misma forma y tendrán propiedades y comportamientos definidos.\n",
        "\n",
        "Para crear una clase, hay que utilizar la palabra reservada class seguida del nombre de la clase y dos puntos. Después el resto del código.\n",
        "\n",
        "La primera letra de la clase hay que escribir en mayúscula:"
      ],
      "metadata": {
        "id": "ZsgH5v7dyD0j"
      }
    },
    {
      "cell_type": "code",
      "source": [
        "class Persona:\n",
        "  def saludo(self):\n",
        "    return \"hola!\""
      ],
      "metadata": {
        "id": "z2CL5eL-m3IM"
      },
      "execution_count": 1,
      "outputs": []
    },
    {
      "cell_type": "markdown",
      "source": [
        "En este caso, hemos creado una clase muy simple. Para inicializar, se guarda la instancia de esta manera:"
      ],
      "metadata": {
        "id": "chC9yS2yncQd"
      }
    },
    {
      "cell_type": "code",
      "source": [
        "itsaso = Persona()\n"
      ],
      "metadata": {
        "id": "xDMOwmAAnQu_"
      },
      "execution_count": 4,
      "outputs": []
    },
    {
      "cell_type": "markdown",
      "source": [
        "Y se utiliza la función que tiene la clase:"
      ],
      "metadata": {
        "id": "3QIXqYd3np2I"
      }
    },
    {
      "cell_type": "code",
      "source": [
        "itsaso.saludo()"
      ],
      "metadata": {
        "colab": {
          "base_uri": "https://localhost:8080/",
          "height": 35
        },
        "id": "d5KTuYy4nwYQ",
        "outputId": "68074af3-8643-475d-ca06-26349d8fed47"
      },
      "execution_count": 3,
      "outputs": [
        {
          "output_type": "execute_result",
          "data": {
            "text/plain": [
              "'hola!'"
            ],
            "application/vnd.google.colaboratory.intrinsic+json": {
              "type": "string"
            }
          },
          "metadata": {},
          "execution_count": 3
        }
      ]
    },
    {
      "cell_type": "code",
      "source": [],
      "metadata": {
        "id": "JjiL8u5JnpcY"
      },
      "execution_count": null,
      "outputs": []
    },
    {
      "cell_type": "markdown",
      "source": [
        "Las ventajas de utilizar clases son:\n",
        "\n",
        "*   Poder reutilizar el código\n",
        "*   Herencia: Se puede utilizar una clase como base para otra clase\n",
        "*   Polimorfirmo: utilizar objetos de diferentes clases de manera uniforme (funciones con el mismo nombre para hacer diferentes tareas).\n",
        "*   Encapsulamiento: para no sobre-escribir. Hay de dos tipos, atributos protegidos (una barra-baja) y privados (dos barra-baja).\n",
        "\n",
        "\n",
        "\n"
      ],
      "metadata": {
        "id": "6XXiFUpcoErJ"
      }
    },
    {
      "cell_type": "markdown",
      "source": [
        "##### ¿Qué método se ejecuta automáticamente cuando se crea una instancia de una clase?\n"
      ],
      "metadata": {
        "id": "2TYZkHbAsF_0"
      }
    },
    {
      "cell_type": "markdown",
      "source": [
        "Cuando se crea una instancia, se ejecuta el método \"_ _init_ _( )\"\n",
        "\n",
        "Se utiliza para inicializar los atributos:"
      ],
      "metadata": {
        "id": "g1ni8gz3sQi7"
      }
    },
    {
      "cell_type": "code",
      "source": [
        "class Persona:\n",
        "    def __init__(self, nombre):\n",
        "        self.nombre = nombre\n",
        "\n",
        "    def saludo(self):\n",
        "        print(f\"Hola {self.nombre}!\")\n",
        "\n",
        "# Crear una instancia:\n",
        "mi_vecino = Persona(\"Jose\")\n",
        "\n",
        "# Acceder a los atributos: y métodos de la instancia\n",
        "print(mi_vecino.nombre)\n",
        "\n",
        "# función personalizada:\n",
        "mi_vecino.saludo()"
      ],
      "metadata": {
        "colab": {
          "base_uri": "https://localhost:8080/"
        },
        "id": "Hg8bpdSltGLL",
        "outputId": "cd13b9c9-5672-4147-97be-5009cf014b10"
      },
      "execution_count": 5,
      "outputs": [
        {
          "output_type": "stream",
          "name": "stdout",
          "text": [
            "Jose\n",
            "Hola Jose!\n"
          ]
        }
      ]
    },
    {
      "cell_type": "markdown",
      "source": [
        "Si no escribimos ningún nombre, nos dará el siguiente error:"
      ],
      "metadata": {
        "id": "rSSbkpcCuKPR"
      }
    },
    {
      "cell_type": "code",
      "source": [
        "mi_vecina = Persona()"
      ],
      "metadata": {
        "colab": {
          "base_uri": "https://localhost:8080/",
          "height": 141
        },
        "id": "BQJIZH1ouAOc",
        "outputId": "48b0b972-3564-47f8-cdb8-5ba4467433c1"
      },
      "execution_count": 6,
      "outputs": [
        {
          "output_type": "error",
          "ename": "TypeError",
          "evalue": "Persona.__init__() missing 1 required positional argument: 'nombre'",
          "traceback": [
            "\u001b[0;31m---------------------------------------------------------------------------\u001b[0m",
            "\u001b[0;31mTypeError\u001b[0m                                 Traceback (most recent call last)",
            "\u001b[0;32m<ipython-input-6-cd45d558ecae>\u001b[0m in \u001b[0;36m<cell line: 1>\u001b[0;34m()\u001b[0m\n\u001b[0;32m----> 1\u001b[0;31m \u001b[0mmi_vecina\u001b[0m \u001b[0;34m=\u001b[0m \u001b[0mPersona\u001b[0m\u001b[0;34m(\u001b[0m\u001b[0;34m)\u001b[0m\u001b[0;34m\u001b[0m\u001b[0;34m\u001b[0m\u001b[0m\n\u001b[0m",
            "\u001b[0;31mTypeError\u001b[0m: Persona.__init__() missing 1 required positional argument: 'nombre'"
          ]
        }
      ]
    },
    {
      "cell_type": "markdown",
      "source": [
        "#### ¿Cuáles son los tres verbos de API?"
      ],
      "metadata": {
        "id": "reVIec0WutFe"
      }
    },
    {
      "cell_type": "markdown",
      "source": [
        "Tres verbos importantes de una API (Application Programming Interface) son:\n",
        "\n",
        "*   Get: Lectura, obtener datos del servidor\n",
        "*   Post: Escritura, enviar datos al servidor\n",
        "*   Put: Escritura con reemplazo, actualizar un dato existente, reemplazando con dato nuevo.\n",
        "\n",
        "Y otros dos:\n",
        "\n",
        "*   Delete: eliminar la información\n",
        "*   Patch: aplicar modificaciones parciales\n",
        "\n",
        "\n"
      ],
      "metadata": {
        "id": "3VojPg10uvX9"
      }
    },
    {
      "cell_type": "markdown",
      "source": [
        "#### ¿Es MongoDB una base de datos SQL o NoSQL?"
      ],
      "metadata": {
        "id": "EEtYHXILxXlD"
      }
    },
    {
      "cell_type": "markdown",
      "source": [
        "MongoDB es una base de datos NoSQL. Proporciona flexibilidad y escalabilidad para gestionar y almacenar datos. No requiere un esquema fijo."
      ],
      "metadata": {
        "id": "TK-APse_xZ7c"
      }
    },
    {
      "cell_type": "markdown",
      "source": [
        "#### ¿Qué es una API?"
      ],
      "metadata": {
        "id": "CKC0_XeYypQ-"
      }
    },
    {
      "cell_type": "markdown",
      "source": [
        "Las siglas API se refieren a Application Programming Interface, que en castellano sería Interfaz de Programación de Aplicaciones. Utilizan  técnicas para que diferentes aplicaciones se comuniquen entre sí, sin tener que saber exactamente cómo es la aplicación de software."
      ],
      "metadata": {
        "id": "TG3so65nyy0L"
      }
    },
    {
      "cell_type": "markdown",
      "source": [
        "#### ¿Qué es Postman?"
      ],
      "metadata": {
        "id": "KkNjLmAe3z4n"
      }
    },
    {
      "cell_type": "markdown",
      "source": [
        "Postman es una plataforma que conecta APIs externos. Recibe datos en vez de recibir la página web. Los datos son almacenados en formato json."
      ],
      "metadata": {
        "id": "9NgvyAqR32aT"
      }
    },
    {
      "cell_type": "markdown",
      "source": [
        "#### ¿Qué es el polimorfismo?"
      ],
      "metadata": {
        "id": "m0Ovj407415Q"
      }
    },
    {
      "cell_type": "markdown",
      "source": [],
      "metadata": {
        "id": "7Gh1EmsE5Iec"
      }
    },
    {
      "cell_type": "markdown",
      "source": [
        "#### ¿Qué es un método dunder?\n",
        "\n"
      ],
      "metadata": {
        "id": "qNIMJB085DB3"
      }
    },
    {
      "cell_type": "markdown",
      "source": [],
      "metadata": {
        "id": "suxpq-od5FXB"
      }
    },
    {
      "cell_type": "markdown",
      "source": [
        "#### ¿Qué es un decorador de python?"
      ],
      "metadata": {
        "id": "wP4e2ilR5Fv3"
      }
    },
    {
      "cell_type": "markdown",
      "source": [],
      "metadata": {
        "id": "b3a79RiI5HI4"
      }
    },
    {
      "cell_type": "markdown",
      "source": [
        "### Ejercicio práctico\n",
        "#### Cree una clase de Python llamada Usuario que use el método init y cree un nombre de usuario y una contraseña. Crea un objeto usando la clase."
      ],
      "metadata": {
        "id": "csznEJwQ22zV"
      }
    },
    {
      "cell_type": "code",
      "source": [
        "class Usuario:\n",
        "    def __init__(self, nombre, contraseña):\n",
        "        self.nombre = nombre\n",
        "        self.contraseña = contraseña\n",
        "\n",
        "usuario1 = Usuario(\"Jose\", \"micontraseña\")\n",
        "\n",
        "print(usuario1.nombre)\n",
        "print(usuario1.contraseña)\n"
      ],
      "metadata": {
        "colab": {
          "base_uri": "https://localhost:8080/"
        },
        "id": "7A3Ksd4O21n1",
        "outputId": "00a2e531-c13a-4483-c2bb-4cf8b2e9249c"
      },
      "execution_count": 8,
      "outputs": [
        {
          "output_type": "stream",
          "name": "stdout",
          "text": [
            "Jose\n",
            "micontraseña\n"
          ]
        }
      ]
    }
  ],
  "metadata": {
    "colab": {
      "provenance": []
    },
    "kernelspec": {
      "display_name": "Python 3",
      "name": "python3"
    }
  },
  "nbformat": 4,
  "nbformat_minor": 0
}